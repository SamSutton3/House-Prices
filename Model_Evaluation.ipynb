{
 "cells": [
  {
   "cell_type": "markdown",
   "id": "80ca91cf",
   "metadata": {},
   "source": [
    "# House Prices - Model"
   ]
  },
  {
   "cell_type": "markdown",
   "id": "dcfb6758",
   "metadata": {},
   "source": [
    "The lines of code below, imports the relevant libraries and opens the Refined data frame from the `Data_Processing_and_EDA` workbook.\n",
    "Additionally, it creates a new Data Frame for storing Algorithm results, this will help to track the models that are best suited for the dataset we use."
   ]
  },
  {
   "cell_type": "code",
   "execution_count": 1,
   "id": "17092e78",
   "metadata": {},
   "outputs": [
    {
     "data": {
      "text/html": [
       "<style>.container { width:100% !important; }</style>"
      ],
      "text/plain": [
       "<IPython.core.display.HTML object>"
      ]
     },
     "metadata": {},
     "output_type": "display_data"
    }
   ],
   "source": [
    "from IPython.core.display import display, HTML\n",
    "display(HTML(\"<style>.container { width:100% !important; }</style>\"))\n",
    "import pandas as pd\n",
    "%matplotlib inline \n",
    "import matplotlib.pyplot as plt\n",
    "import seaborn as sns"
   ]
  },
  {
   "cell_type": "code",
   "execution_count": 2,
   "id": "fd8e4b3a",
   "metadata": {},
   "outputs": [],
   "source": [
    "results = pd.DataFrame(columns=['Algorithm','R2 train', 'R2 val', 'MAE train', 'MAE val'])"
   ]
  },
  {
   "cell_type": "code",
   "execution_count": 3,
   "id": "1aaeb267",
   "metadata": {},
   "outputs": [],
   "source": [
    "refined_df = pd.read_csv('data/refined_data.csv')"
   ]
  },
  {
   "cell_type": "code",
   "execution_count": 4,
   "id": "1cdde50c",
   "metadata": {},
   "outputs": [
    {
     "name": "stdout",
     "output_type": "stream",
     "text": [
      "<class 'pandas.core.frame.DataFrame'>\n",
      "RangeIndex: 1460 entries, 0 to 1459\n",
      "Data columns (total 22 columns):\n",
      " #   Column         Non-Null Count  Dtype\n",
      "---  ------         --------------  -----\n",
      " 0   OverallQual    1460 non-null   int64\n",
      " 1   YearBuilt      1460 non-null   int64\n",
      " 2   YearRemodAdd   1460 non-null   int64\n",
      " 3   TotalBsmtSF    1460 non-null   int64\n",
      " 4   1stFlrSF       1460 non-null   int64\n",
      " 5   GrLivArea      1460 non-null   int64\n",
      " 6   FullBath       1460 non-null   int64\n",
      " 7   TotRmsAbvGrd   1460 non-null   int64\n",
      " 8   GarageCars     1460 non-null   int64\n",
      " 9   GarageArea     1460 non-null   int64\n",
      " 10  LotConfig      1460 non-null   int64\n",
      " 11  BldgType       1460 non-null   int64\n",
      " 12  LotArea        1460 non-null   int64\n",
      " 13  OverallCond    1460 non-null   int64\n",
      " 14  2ndFlrSF       1460 non-null   int64\n",
      " 15  BedroomAbvGr   1460 non-null   int64\n",
      " 16  Fireplaces     1460 non-null   int64\n",
      " 17  EnclosedPorch  1460 non-null   int64\n",
      " 18  OpenPorchSF    1460 non-null   int64\n",
      " 19  WoodDeckSF     1460 non-null   int64\n",
      " 20  HalfBath       1460 non-null   int64\n",
      " 21  SalePrice      1460 non-null   int64\n",
      "dtypes: int64(22)\n",
      "memory usage: 251.1 KB\n"
     ]
    }
   ],
   "source": [
    "refined_df.info()"
   ]
  },
  {
   "cell_type": "markdown",
   "id": "0b7800de",
   "metadata": {},
   "source": [
    "The `train_test_split` function is used to split the dataset into relevant training and testing subsets which helps to train and evaluate the performance of the model."
   ]
  },
  {
   "cell_type": "code",
   "execution_count": 5,
   "id": "d8a79ab0",
   "metadata": {},
   "outputs": [],
   "source": [
    "from sklearn.model_selection import train_test_split"
   ]
  },
  {
   "cell_type": "code",
   "execution_count": 6,
   "id": "1eb0e1f3",
   "metadata": {},
   "outputs": [],
   "source": [
    "y = refined_df['SalePrice']\n",
    "X = refined_df.drop(columns='SalePrice')"
   ]
  },
  {
   "cell_type": "code",
   "execution_count": 7,
   "id": "e330facb",
   "metadata": {},
   "outputs": [],
   "source": [
    "X_train, X_val, y_train, y_val = train_test_split(X, y, test_size = 0.2, random_state=0)"
   ]
  },
  {
   "cell_type": "markdown",
   "id": "055b73bf",
   "metadata": {},
   "source": [
    "Mean Absolute Error (MAE) is a common metric for evaluating regression models, it measures the average absolute difference between the predicted values predicted by the model versus the actual values."
   ]
  },
  {
   "cell_type": "code",
   "execution_count": 8,
   "id": "4ba3ef96",
   "metadata": {},
   "outputs": [],
   "source": [
    "from sklearn.metrics import mean_absolute_error as mae"
   ]
  },
  {
   "cell_type": "markdown",
   "id": "0901c189",
   "metadata": {},
   "source": [
    "## Linear Regression"
   ]
  },
  {
   "cell_type": "markdown",
   "id": "1a9cc89d",
   "metadata": {},
   "source": [
    "Linear regression is common used in Machine Learning where we need to model the relationship between the target variable and one or more independent variables. The fundamental idea behind it is that it will find the best-fitting linear relationship between the features and the target variable."
   ]
  },
  {
   "cell_type": "code",
   "execution_count": 9,
   "id": "10a9ba48",
   "metadata": {},
   "outputs": [],
   "source": [
    "from sklearn.linear_model import LinearRegression"
   ]
  },
  {
   "cell_type": "code",
   "execution_count": 10,
   "id": "01bb96f2",
   "metadata": {},
   "outputs": [],
   "source": [
    "lr=LinearRegression()"
   ]
  },
  {
   "cell_type": "code",
   "execution_count": 11,
   "id": "b15a281e",
   "metadata": {},
   "outputs": [
    {
     "data": {
      "text/plain": [
       "LinearRegression()"
      ]
     },
     "execution_count": 11,
     "metadata": {},
     "output_type": "execute_result"
    }
   ],
   "source": [
    "lr.fit(X_train,y_train)"
   ]
  },
  {
   "cell_type": "code",
   "execution_count": 12,
   "id": "04ec3d63",
   "metadata": {},
   "outputs": [],
   "source": [
    "pred_val = lr.predict(X_val)"
   ]
  },
  {
   "cell_type": "markdown",
   "id": "e6d5c9e8",
   "metadata": {},
   "source": [
    "Linear regression assumes the same relationhip across the features and target variable which leds it to a straight line as seen below, unfortunately, Linear Regression falls down as it fails to fit complex datasets.\n",
    "\n",
    "The graph below allows this to be plotted as the prediction line does not adapt to fit the True Values from 400,000 and above."
   ]
  },
  {
   "cell_type": "code",
   "execution_count": 13,
   "id": "ac333a55",
   "metadata": {},
   "outputs": [
    {
     "data": {
      "image/png": "[encoded data removed]",
      "text/plain": [
       "<Figure size 800x500 with 1 Axes>"
      ]
     },
     "metadata": {},
     "output_type": "display_data"
    }
   ],
   "source": [
    "plt.figure(figsize=(8,5))\n",
    "plt.scatter(y_val, pred_val)\n",
    "plt.plot([0,y_val.max()], [0, y_val.max()], color='r')\n",
    "plt.xlabel('True Values')\n",
    "plt.ylabel('Predictions');"
   ]
  },
  {
   "cell_type": "markdown",
   "id": "f9b10389",
   "metadata": {},
   "source": [
    "The `.score()` function will return the accuracy of the model for both the Training and Validation dataset. The returned value is the model's predictions against the actual values. \n",
    "\n",
    "In this instance we use the coefficient of determination ($R^{2}$)."
   ]
  },
  {
   "cell_type": "code",
   "execution_count": 14,
   "id": "2abf488d",
   "metadata": {},
   "outputs": [],
   "source": [
    "lr_r2_train = lr.score(X_train, y_train)"
   ]
  },
  {
   "cell_type": "code",
   "execution_count": 15,
   "id": "1670cc17",
   "metadata": {},
   "outputs": [],
   "source": [
    "lr_r2_val = lr.score(X_val, y_val)"
   ]
  },
  {
   "cell_type": "code",
   "execution_count": 16,
   "id": "c0348ec0",
   "metadata": {},
   "outputs": [
    {
     "data": {
      "text/plain": [
       "0.8291984111127044"
      ]
     },
     "execution_count": 16,
     "metadata": {},
     "output_type": "execute_result"
    }
   ],
   "source": [
    "lr_r2_train"
   ]
  },
  {
   "cell_type": "code",
   "execution_count": 17,
   "id": "3aea1ff8",
   "metadata": {},
   "outputs": [
    {
     "data": {
      "text/plain": [
       "0.6507851917460672"
      ]
     },
     "execution_count": 17,
     "metadata": {},
     "output_type": "execute_result"
    }
   ],
   "source": [
    "lr_r2_val"
   ]
  },
  {
   "cell_type": "markdown",
   "id": "eb27b08c",
   "metadata": {},
   "source": [
    "We can then use the Mean Absolute Error function imported earlier to calculate the average absolute difference between the predicted values predicted by the model versus the actual values "
   ]
  },
  {
   "cell_type": "code",
   "execution_count": 18,
   "id": "ea260574",
   "metadata": {},
   "outputs": [],
   "source": [
    "lr_mae_train = mae(y_train, lr.predict(X_train))\n",
    "lr_mae_val = mae(y_val, lr.predict(X_val))"
   ]
  },
  {
   "cell_type": "code",
   "execution_count": 19,
   "id": "9498f10a",
   "metadata": {},
   "outputs": [
    {
     "data": {
      "text/plain": [
       "21077.06655057584"
      ]
     },
     "execution_count": 19,
     "metadata": {},
     "output_type": "execute_result"
    }
   ],
   "source": [
    "lr_mae_train"
   ]
  },
  {
   "cell_type": "code",
   "execution_count": 20,
   "id": "bf123134",
   "metadata": {},
   "outputs": [
    {
     "data": {
      "text/plain": [
       "24909.080193984017"
      ]
     },
     "execution_count": 20,
     "metadata": {},
     "output_type": "execute_result"
    }
   ],
   "source": [
    "lr_mae_val"
   ]
  },
  {
   "cell_type": "markdown",
   "id": "5b06836f",
   "metadata": {},
   "source": [
    "These results are then appended the DataFrame we created earlier in order to track the performance of the algorithms used."
   ]
  },
  {
   "cell_type": "code",
   "execution_count": 21,
   "id": "2212354c",
   "metadata": {},
   "outputs": [
    {
     "name": "stderr",
     "output_type": "stream",
     "text": [
      "C:\\Users\\Sam.Sutton\\AppData\\Local\\Continuum\\anaconda3\\TEMP\\ipykernel_18632\\2472910292.py:1: FutureWarning: The frame.append method is deprecated and will be removed from pandas in a future version. Use pandas.concat instead.\n",
      "  results = results.append({'Algorithm': 'Linear Regression', 'R2 train': lr_r2_train, 'R2 val': lr_r2_val, 'MAE train' : lr_mae_train , 'MAE val': lr_mae_val}, ignore_index=True)\n"
     ]
    }
   ],
   "source": [
    "results = results.append({'Algorithm': 'Linear Regression', 'R2 train': lr_r2_train, 'R2 val': lr_r2_val, 'MAE train' : lr_mae_train , 'MAE val': lr_mae_val}, ignore_index=True)"
   ]
  },
  {
   "cell_type": "code",
   "execution_count": 22,
   "id": "3c4569fc",
   "metadata": {},
   "outputs": [
    {
     "data": {
      "text/html": [
       "<div>\n",
       "<style scoped>\n",
       "    .dataframe tbody tr th:only-of-type {\n",
       "        vertical-align: middle;\n",
       "    }\n",
       "\n",
       "    .dataframe tbody tr th {\n",
       "        vertical-align: top;\n",
       "    }\n",
       "\n",
       "    .dataframe thead th {\n",
       "        text-align: right;\n",
       "    }\n",
       "</style>\n",
       "<table border=\"1\" class=\"dataframe\">\n",
       "  <thead>\n",
       "    <tr style=\"text-align: right;\">\n",
       "      <th></th>\n",
       "      <th>Algorithm</th>\n",
       "      <th>R2 train</th>\n",
       "      <th>R2 val</th>\n",
       "      <th>MAE train</th>\n",
       "      <th>MAE val</th>\n",
       "    </tr>\n",
       "  </thead>\n",
       "  <tbody>\n",
       "    <tr>\n",
       "      <th>0</th>\n",
       "      <td>Linear Regression</td>\n",
       "      <td>0.829198</td>\n",
       "      <td>0.650785</td>\n",
       "      <td>21077.066551</td>\n",
       "      <td>24909.080194</td>\n",
       "    </tr>\n",
       "  </tbody>\n",
       "</table>\n",
       "</div>"
      ],
      "text/plain": [
       "           Algorithm  R2 train    R2 val     MAE train       MAE val\n",
       "0  Linear Regression  0.829198  0.650785  21077.066551  24909.080194"
      ]
     },
     "execution_count": 22,
     "metadata": {},
     "output_type": "execute_result"
    }
   ],
   "source": [
    "results"
   ]
  },
  {
   "cell_type": "markdown",
   "id": "7a1a5eef",
   "metadata": {},
   "source": [
    "## Scaled Liner Regression"
   ]
  },
  {
   "cell_type": "markdown",
   "id": "00f4987f",
   "metadata": {},
   "source": [
    "Scaling datasets are important as it ensures that all features in your dataset have a similar scale or range, which can improve model performance. The `StandardScaler` function is imported to scale the dataset, before it is transformed using the `fit_transform` function. This function is used to pre-process the data as it is needed ater scaling or normalisation.\n",
    "\n",
    "It is important to note that the target variable should not be scaled or transformed."
   ]
  },
  {
   "cell_type": "code",
   "execution_count": 23,
   "id": "3f9777fe",
   "metadata": {},
   "outputs": [],
   "source": [
    "from sklearn.preprocessing import StandardScaler"
   ]
  },
  {
   "cell_type": "code",
   "execution_count": 24,
   "id": "851c0d31",
   "metadata": {},
   "outputs": [],
   "source": [
    "sc = StandardScaler()"
   ]
  },
  {
   "cell_type": "code",
   "execution_count": 25,
   "id": "2479abbc",
   "metadata": {},
   "outputs": [],
   "source": [
    "col_to_scale = list(refined_df.columns)\n",
    "col_to_scale.remove('SalePrice')"
   ]
  },
  {
   "cell_type": "code",
   "execution_count": 26,
   "id": "830d157b",
   "metadata": {},
   "outputs": [],
   "source": [
    "scaled_data = sc.fit_transform(refined_df[col_to_scale])"
   ]
  },
  {
   "cell_type": "code",
   "execution_count": 27,
   "id": "bae33551",
   "metadata": {},
   "outputs": [],
   "source": [
    "scaled_y = refined_df['SalePrice']\n",
    "scaled_X = scaled_data"
   ]
  },
  {
   "cell_type": "code",
   "execution_count": 28,
   "id": "8d1d0b78",
   "metadata": {},
   "outputs": [],
   "source": [
    "scaled_X_train, scaled_X_val, scaled_y_train, scaled_y_val = train_test_split(scaled_X, scaled_y, test_size = 0.25, random_state=1)"
   ]
  },
  {
   "cell_type": "code",
   "execution_count": 29,
   "id": "e4cc1905",
   "metadata": {},
   "outputs": [],
   "source": [
    "scaled_lr=LinearRegression()"
   ]
  },
  {
   "cell_type": "code",
   "execution_count": 30,
   "id": "f9e8bc66",
   "metadata": {},
   "outputs": [
    {
     "data": {
      "text/plain": [
       "LinearRegression()"
      ]
     },
     "execution_count": 30,
     "metadata": {},
     "output_type": "execute_result"
    }
   ],
   "source": [
    "scaled_lr.fit(scaled_X_train,scaled_y_train)"
   ]
  },
  {
   "cell_type": "code",
   "execution_count": 31,
   "id": "0e3e907c",
   "metadata": {},
   "outputs": [],
   "source": [
    "lr_r2_train = scaled_lr.score(scaled_X_train, scaled_y_train)\n",
    "lr_r2_val = scaled_lr.score(scaled_X_val, scaled_y_val)"
   ]
  },
  {
   "cell_type": "code",
   "execution_count": 32,
   "id": "c163a8ac",
   "metadata": {},
   "outputs": [],
   "source": [
    "lr_mae_train = mae(scaled_y_train, scaled_lr.predict(scaled_X_train))\n",
    "lr_mae_val = mae(scaled_y_val, scaled_lr.predict(scaled_X_val))"
   ]
  },
  {
   "cell_type": "code",
   "execution_count": 33,
   "id": "053bea84",
   "metadata": {},
   "outputs": [
    {
     "name": "stderr",
     "output_type": "stream",
     "text": [
      "C:\\Users\\Sam.Sutton\\AppData\\Local\\Continuum\\anaconda3\\TEMP\\ipykernel_18632\\3578943320.py:1: FutureWarning: The frame.append method is deprecated and will be removed from pandas in a future version. Use pandas.concat instead.\n",
      "  results = results.append({'Algorithm': 'Scaled LR', 'R2 train': lr_r2_train, 'R2 val': lr_r2_val, 'MAE train' : lr_mae_train , 'MAE val': lr_mae_val}, ignore_index=True)\n"
     ]
    }
   ],
   "source": [
    "results = results.append({'Algorithm': 'Scaled LR', 'R2 train': lr_r2_train, 'R2 val': lr_r2_val, 'MAE train' : lr_mae_train , 'MAE val': lr_mae_val}, ignore_index=True)"
   ]
  },
  {
   "cell_type": "code",
   "execution_count": 34,
   "id": "ab6df190",
   "metadata": {},
   "outputs": [
    {
     "data": {
      "text/html": [
       "<div>\n",
       "<style scoped>\n",
       "    .dataframe tbody tr th:only-of-type {\n",
       "        vertical-align: middle;\n",
       "    }\n",
       "\n",
       "    .dataframe tbody tr th {\n",
       "        vertical-align: top;\n",
       "    }\n",
       "\n",
       "    .dataframe thead th {\n",
       "        text-align: right;\n",
       "    }\n",
       "</style>\n",
       "<table border=\"1\" class=\"dataframe\">\n",
       "  <thead>\n",
       "    <tr style=\"text-align: right;\">\n",
       "      <th></th>\n",
       "      <th>Algorithm</th>\n",
       "      <th>R2 train</th>\n",
       "      <th>R2 val</th>\n",
       "      <th>MAE train</th>\n",
       "      <th>MAE val</th>\n",
       "    </tr>\n",
       "  </thead>\n",
       "  <tbody>\n",
       "    <tr>\n",
       "      <th>0</th>\n",
       "      <td>Linear Regression</td>\n",
       "      <td>0.829198</td>\n",
       "      <td>0.650785</td>\n",
       "      <td>21077.066551</td>\n",
       "      <td>24909.080194</td>\n",
       "    </tr>\n",
       "    <tr>\n",
       "      <th>1</th>\n",
       "      <td>Scaled LR</td>\n",
       "      <td>0.780732</td>\n",
       "      <td>0.826103</td>\n",
       "      <td>22503.308689</td>\n",
       "      <td>22574.392352</td>\n",
       "    </tr>\n",
       "  </tbody>\n",
       "</table>\n",
       "</div>"
      ],
      "text/plain": [
       "           Algorithm  R2 train    R2 val     MAE train       MAE val\n",
       "0  Linear Regression  0.829198  0.650785  21077.066551  24909.080194\n",
       "1          Scaled LR  0.780732  0.826103  22503.308689  22574.392352"
      ]
     },
     "execution_count": 34,
     "metadata": {},
     "output_type": "execute_result"
    }
   ],
   "source": [
    "results"
   ]
  },
  {
   "cell_type": "markdown",
   "id": "adabe5c8",
   "metadata": {},
   "source": [
    "From the results above, it is a fair conclusion that the scaled dataset overall performs better than the unscaled dataset. This allows us to say that the scaled Linear Regression model would be a better fit for the data, analysing further we can see that despite the significant improvement in valdation accuracy that the scaled datasset performs slightly worse in the training accuracy metric.\n",
    "\n",
    "This trend continues into the MAE metrics, with the scaled model performing better on validation MAE whereas the unscaled data performs better on training data.\n",
    "\n",
    "The choice ultimately between the models would be decided by which metric would be more important, the performance on seen or unseen data.\n",
    "\n",
    "To exhuast all options with Linear Regression, we can use Lasso Linear Regression that includes regularisation..."
   ]
  },
  {
   "cell_type": "markdown",
   "id": "efa937fa",
   "metadata": {},
   "source": [
    "## Lasso Linear Regression"
   ]
  },
  {
   "cell_type": "markdown",
   "id": "9b0ebdb1",
   "metadata": {},
   "source": [
    "Lasso Linear Regression includes regularisiation to ensure that the model does not overfit, it can be used when predicting a continious target variable based on mutliple independent features."
   ]
  },
  {
   "cell_type": "code",
   "execution_count": 35,
   "id": "84356533",
   "metadata": {},
   "outputs": [],
   "source": [
    "from sklearn.linear_model import Lasso"
   ]
  },
  {
   "cell_type": "code",
   "execution_count": 36,
   "id": "da7badd4",
   "metadata": {},
   "outputs": [
    {
     "name": "stderr",
     "output_type": "stream",
     "text": [
      "C:\\ProgramData\\Anaconda3\\lib\\site-packages\\sklearn\\linear_model\\_coordinate_descent.py:647: ConvergenceWarning: Objective did not converge. You might want to increase the number of iterations, check the scale of the features or consider increasing regularisation. Duality gap: 3.678e+11, tolerance: 7.191e+08\n",
      "  model = cd_fast.enet_coordinate_descent(\n"
     ]
    }
   ],
   "source": [
    "lasso = Lasso(alpha=0.95)\n",
    "lasso.fit(X_train,y_train)\n",
    "pred_train = lasso.predict(X_train)\n",
    "pred_val = lasso.predict(X_val)"
   ]
  },
  {
   "cell_type": "code",
   "execution_count": 37,
   "id": "b1933302",
   "metadata": {},
   "outputs": [],
   "source": [
    "lasso_r2_train = lasso.score(X_train, y_train)\n",
    "lasso_r2_val = lasso.score(X_val, y_val)\n",
    "lasso_mae_train = mae(y_train, pred_train)\n",
    "lasso_mae_val = mae(y_val, pred_val)"
   ]
  },
  {
   "cell_type": "code",
   "execution_count": 38,
   "id": "7785bc72",
   "metadata": {},
   "outputs": [
    {
     "name": "stderr",
     "output_type": "stream",
     "text": [
      "C:\\Users\\Sam.Sutton\\AppData\\Local\\Continuum\\anaconda3\\TEMP\\ipykernel_18632\\1919214669.py:1: FutureWarning: The frame.append method is deprecated and will be removed from pandas in a future version. Use pandas.concat instead.\n",
      "  results = results.append({'Algorithm': 'Lasso Regression', 'R2 train': lasso_r2_train, 'R2 val': lasso_r2_val, 'MAE train' : lasso_mae_train , 'MAE val': lasso_mae_val}, ignore_index=True)\n"
     ]
    }
   ],
   "source": [
    "results = results.append({'Algorithm': 'Lasso Regression', 'R2 train': lasso_r2_train, 'R2 val': lasso_r2_val, 'MAE train' : lasso_mae_train , 'MAE val': lasso_mae_val}, ignore_index=True)"
   ]
  },
  {
   "cell_type": "code",
   "execution_count": 39,
   "id": "1344a786",
   "metadata": {},
   "outputs": [
    {
     "data": {
      "text/html": [
       "<div>\n",
       "<style scoped>\n",
       "    .dataframe tbody tr th:only-of-type {\n",
       "        vertical-align: middle;\n",
       "    }\n",
       "\n",
       "    .dataframe tbody tr th {\n",
       "        vertical-align: top;\n",
       "    }\n",
       "\n",
       "    .dataframe thead th {\n",
       "        text-align: right;\n",
       "    }\n",
       "</style>\n",
       "<table border=\"1\" class=\"dataframe\">\n",
       "  <thead>\n",
       "    <tr style=\"text-align: right;\">\n",
       "      <th></th>\n",
       "      <th>Algorithm</th>\n",
       "      <th>R2 train</th>\n",
       "      <th>R2 val</th>\n",
       "      <th>MAE train</th>\n",
       "      <th>MAE val</th>\n",
       "    </tr>\n",
       "  </thead>\n",
       "  <tbody>\n",
       "    <tr>\n",
       "      <th>0</th>\n",
       "      <td>Linear Regression</td>\n",
       "      <td>0.829198</td>\n",
       "      <td>0.650785</td>\n",
       "      <td>21077.066551</td>\n",
       "      <td>24909.080194</td>\n",
       "    </tr>\n",
       "    <tr>\n",
       "      <th>1</th>\n",
       "      <td>Scaled LR</td>\n",
       "      <td>0.780732</td>\n",
       "      <td>0.826103</td>\n",
       "      <td>22503.308689</td>\n",
       "      <td>22574.392352</td>\n",
       "    </tr>\n",
       "    <tr>\n",
       "      <th>2</th>\n",
       "      <td>Lasso Regression</td>\n",
       "      <td>0.829198</td>\n",
       "      <td>0.650772</td>\n",
       "      <td>21076.750588</td>\n",
       "      <td>24908.739164</td>\n",
       "    </tr>\n",
       "  </tbody>\n",
       "</table>\n",
       "</div>"
      ],
      "text/plain": [
       "           Algorithm  R2 train    R2 val     MAE train       MAE val\n",
       "0  Linear Regression  0.829198  0.650785  21077.066551  24909.080194\n",
       "1          Scaled LR  0.780732  0.826103  22503.308689  22574.392352\n",
       "2   Lasso Regression  0.829198  0.650772  21076.750588  24908.739164"
      ]
     },
     "execution_count": 39,
     "metadata": {},
     "output_type": "execute_result"
    }
   ],
   "source": [
    "results"
   ]
  },
  {
   "cell_type": "markdown",
   "id": "13b77935",
   "metadata": {},
   "source": [
    "Linear Regression can only take us so far, Lasso Regression has unlocked a slight improvement on MAE but nothing major."
   ]
  },
  {
   "cell_type": "markdown",
   "id": "904d7d90",
   "metadata": {},
   "source": [
    "The similarities between Linear Regression and Lasso Regression are clear to see, Lasso regression allows for a slight improvement in the MAE metrics. The same impact would occur if Lasso regression were used on the scaled dataset. We will now move on to different types of regression. However, if scaled Linear Regression is the highest performing model, then it would be worth performing Lasso Regression again."
   ]
  },
  {
   "cell_type": "markdown",
   "id": "ce1d1c3c",
   "metadata": {},
   "source": [
    "## Polynomial Regression"
   ]
  },
  {
   "cell_type": "markdown",
   "id": "29eee110",
   "metadata": {},
   "source": [
    "An extension of linear regression (straight line), polynomial regression represents the relationship between the independent features and the target variable `Sale Price` as a Polynomial Curve."
   ]
  },
  {
   "cell_type": "code",
   "execution_count": 40,
   "id": "62144099",
   "metadata": {},
   "outputs": [],
   "source": [
    "from sklearn.preprocessing import PolynomialFeatures"
   ]
  },
  {
   "cell_type": "markdown",
   "id": "5d7cdeeb",
   "metadata": {},
   "source": [
    "Similar to the standard scaler used previously, allows for the data to be transformed to suit a polynomial regression. The function takes in the parameter `degree` this can be set to generate specific degrees of polynomials."
   ]
  },
  {
   "cell_type": "code",
   "execution_count": 41,
   "id": "4c1b680c",
   "metadata": {},
   "outputs": [],
   "source": [
    "from sklearn.preprocessing import StandardScaler\n",
    "sc_X = StandardScaler()\n",
    "X_train = sc_X.fit_transform(X_train)\n",
    "X_val = sc_X.transform(X_val)"
   ]
  },
  {
   "cell_type": "code",
   "execution_count": 42,
   "id": "1aa71b73",
   "metadata": {},
   "outputs": [],
   "source": [
    "poly_feat = PolynomialFeatures(degree=2, include_bias = False)"
   ]
  },
  {
   "cell_type": "code",
   "execution_count": 43,
   "id": "0d53d156",
   "metadata": {},
   "outputs": [],
   "source": [
    "X_train_poly = poly_feat.fit_transform(X_train)"
   ]
  },
  {
   "cell_type": "code",
   "execution_count": 44,
   "id": "cc61d3d6",
   "metadata": {},
   "outputs": [],
   "source": [
    "X_val_poly = poly_feat.fit_transform(X_val)"
   ]
  },
  {
   "cell_type": "code",
   "execution_count": 45,
   "id": "d64c5735",
   "metadata": {},
   "outputs": [],
   "source": [
    "poly_model = LinearRegression()"
   ]
  },
  {
   "cell_type": "code",
   "execution_count": 46,
   "id": "0152b523",
   "metadata": {},
   "outputs": [
    {
     "data": {
      "text/plain": [
       "LinearRegression()"
      ]
     },
     "execution_count": 46,
     "metadata": {},
     "output_type": "execute_result"
    }
   ],
   "source": [
    "poly_model.fit(X_train_poly, y_train)"
   ]
  },
  {
   "cell_type": "code",
   "execution_count": 47,
   "id": "6b7ee5ff",
   "metadata": {},
   "outputs": [],
   "source": [
    "poly_r2_train = poly_model.score(X_train_poly, y_train)\n",
    "poly_r2_val = poly_model.score(X_val_poly, y_val)\n",
    "poly_mae_train = mae(y_train,poly_model.predict(X_train_poly))\n",
    "poly_mae_val = mae(y_val,poly_model.predict(X_val_poly))"
   ]
  },
  {
   "cell_type": "code",
   "execution_count": 48,
   "id": "3faaaf6e",
   "metadata": {},
   "outputs": [
    {
     "name": "stderr",
     "output_type": "stream",
     "text": [
      "C:\\Users\\Sam.Sutton\\AppData\\Local\\Continuum\\anaconda3\\TEMP\\ipykernel_18632\\1456910983.py:1: FutureWarning: The frame.append method is deprecated and will be removed from pandas in a future version. Use pandas.concat instead.\n",
      "  results = results.append({'Algorithm': 'Polynomial n=2', 'R2 train': poly_r2_train, 'R2 val': poly_r2_val, 'MAE train' : poly_mae_train , 'MAE val': poly_mae_val}, ignore_index=True)\n"
     ]
    }
   ],
   "source": [
    "results = results.append({'Algorithm': 'Polynomial n=2', 'R2 train': poly_r2_train, 'R2 val': poly_r2_val, 'MAE train' : poly_mae_train , 'MAE val': poly_mae_val}, ignore_index=True)"
   ]
  },
  {
   "cell_type": "code",
   "execution_count": 49,
   "id": "efa9845f",
   "metadata": {},
   "outputs": [
    {
     "data": {
      "text/html": [
       "<div>\n",
       "<style scoped>\n",
       "    .dataframe tbody tr th:only-of-type {\n",
       "        vertical-align: middle;\n",
       "    }\n",
       "\n",
       "    .dataframe tbody tr th {\n",
       "        vertical-align: top;\n",
       "    }\n",
       "\n",
       "    .dataframe thead th {\n",
       "        text-align: right;\n",
       "    }\n",
       "</style>\n",
       "<table border=\"1\" class=\"dataframe\">\n",
       "  <thead>\n",
       "    <tr style=\"text-align: right;\">\n",
       "      <th></th>\n",
       "      <th>Algorithm</th>\n",
       "      <th>R2 train</th>\n",
       "      <th>R2 val</th>\n",
       "      <th>MAE train</th>\n",
       "      <th>MAE val</th>\n",
       "    </tr>\n",
       "  </thead>\n",
       "  <tbody>\n",
       "    <tr>\n",
       "      <th>0</th>\n",
       "      <td>Linear Regression</td>\n",
       "      <td>0.829198</td>\n",
       "      <td>0.650785</td>\n",
       "      <td>21077.066551</td>\n",
       "      <td>24909.080194</td>\n",
       "    </tr>\n",
       "    <tr>\n",
       "      <th>1</th>\n",
       "      <td>Scaled LR</td>\n",
       "      <td>0.780732</td>\n",
       "      <td>0.826103</td>\n",
       "      <td>22503.308689</td>\n",
       "      <td>22574.392352</td>\n",
       "    </tr>\n",
       "    <tr>\n",
       "      <th>2</th>\n",
       "      <td>Lasso Regression</td>\n",
       "      <td>0.829198</td>\n",
       "      <td>0.650772</td>\n",
       "      <td>21076.750588</td>\n",
       "      <td>24908.739164</td>\n",
       "    </tr>\n",
       "    <tr>\n",
       "      <th>3</th>\n",
       "      <td>Polynomial n=2</td>\n",
       "      <td>0.933185</td>\n",
       "      <td>0.723125</td>\n",
       "      <td>14599.744518</td>\n",
       "      <td>21971.565993</td>\n",
       "    </tr>\n",
       "  </tbody>\n",
       "</table>\n",
       "</div>"
      ],
      "text/plain": [
       "           Algorithm  R2 train    R2 val     MAE train       MAE val\n",
       "0  Linear Regression  0.829198  0.650785  21077.066551  24909.080194\n",
       "1          Scaled LR  0.780732  0.826103  22503.308689  22574.392352\n",
       "2   Lasso Regression  0.829198  0.650772  21076.750588  24908.739164\n",
       "3     Polynomial n=2  0.933185  0.723125  14599.744518  21971.565993"
      ]
     },
     "execution_count": 49,
     "metadata": {},
     "output_type": "execute_result"
    }
   ],
   "source": [
    "results"
   ]
  },
  {
   "cell_type": "markdown",
   "id": "345e5356",
   "metadata": {},
   "source": [
    "In comparison to the previous models, polynomial regression performs better across training data, however, it struggles across the validation data which is a sign of overfitting for the training data. There are also significant improvements in the MAE metrics, which shows that on average the average error is less which points to potential anomalies..."
   ]
  },
  {
   "cell_type": "code",
   "execution_count": 50,
   "id": "890904a9",
   "metadata": {},
   "outputs": [
    {
     "data": {
      "image/png": "[encoded data removed]",
      "text/plain": [
       "<Figure size 800x500 with 1 Axes>"
      ]
     },
     "metadata": {},
     "output_type": "display_data"
    }
   ],
   "source": [
    "poly_pred_val = poly_model.predict(X_val_poly)\n",
    "plt.figure(figsize=(8,5))\n",
    "plt.scatter(y_val, poly_pred_val)\n",
    "plt.plot([0,y_val.max()], [0, y_val.max()], color='r')\n",
    "plt.xlabel('True Values')\n",
    "plt.ylabel('Predictions');"
   ]
  },
  {
   "cell_type": "markdown",
   "id": "89a57980",
   "metadata": {},
   "source": [
    "The graph depicts a second-degree Polynomial Regression model that, demonstrates good performance as a whole. However, the model is compromised by a single anomaly, that appears on the top-left corner of the graph. This anomaly has a significant impact on the accuracy of the validation data and this is reflected in the value of `0.723`."
   ]
  },
  {
   "cell_type": "markdown",
   "id": "33e1ce1b",
   "metadata": {},
   "source": [
    "## Decision Trees"
   ]
  },
  {
   "cell_type": "markdown",
   "id": "2009425d",
   "metadata": {},
   "source": [
    "Decision Trees can be used for classification or regression, it predicts the value of the target variable `Sale Price`. Decision Trees work by making simple decision rules that creates different branches, and they can be displayed as an algorithm that makes conditional control statements.\n",
    "\n",
    "The amount of conditional control statements is based on the `max_depth` parameter that is passed through when the model is intialised. Increasing the depth can lead to overfitting and increased computational complexity, so it is important to select the appropriate level."
   ]
  },
  {
   "cell_type": "code",
   "execution_count": 51,
   "id": "b6428a8d",
   "metadata": {},
   "outputs": [],
   "source": [
    "from sklearn.tree import DecisionTreeRegressor"
   ]
  },
  {
   "cell_type": "code",
   "execution_count": 52,
   "id": "dfaacd1e",
   "metadata": {},
   "outputs": [
    {
     "data": {
      "text/plain": [
       "DecisionTreeRegressor(max_depth=4)"
      ]
     },
     "execution_count": 52,
     "metadata": {},
     "output_type": "execute_result"
    }
   ],
   "source": [
    "regr = DecisionTreeRegressor(max_depth=4)\n",
    "regr.fit(X_train, y_train)"
   ]
  },
  {
   "cell_type": "code",
   "execution_count": 53,
   "id": "07675ee1",
   "metadata": {},
   "outputs": [],
   "source": [
    "dt_r2_train = regr.score(X_train, y_train)\n",
    "dt_r2_val = regr.score(X_val, y_val)\n",
    "dt_mae_train = mae(y_train,regr.predict(X_train))\n",
    "dt_mae_val = mae(y_val,regr.predict(X_val))"
   ]
  },
  {
   "cell_type": "code",
   "execution_count": 54,
   "id": "87d03aa4",
   "metadata": {},
   "outputs": [
    {
     "name": "stderr",
     "output_type": "stream",
     "text": [
      "C:\\Users\\Sam.Sutton\\AppData\\Local\\Continuum\\anaconda3\\TEMP\\ipykernel_18632\\1016993710.py:1: FutureWarning: The frame.append method is deprecated and will be removed from pandas in a future version. Use pandas.concat instead.\n",
      "  results = results.append({'Algorithm': 'Decision Trees', 'R2 train': dt_r2_train, 'R2 val': dt_r2_val, 'MAE train' : dt_mae_train , 'MAE val': dt_mae_val}, ignore_index=True)\n"
     ]
    }
   ],
   "source": [
    "results = results.append({'Algorithm': 'Decision Trees', 'R2 train': dt_r2_train, 'R2 val': dt_r2_val, 'MAE train' : dt_mae_train , 'MAE val': dt_mae_val}, ignore_index=True)"
   ]
  },
  {
   "cell_type": "code",
   "execution_count": 55,
   "id": "ef64eebb",
   "metadata": {},
   "outputs": [
    {
     "data": {
      "text/html": [
       "<div>\n",
       "<style scoped>\n",
       "    .dataframe tbody tr th:only-of-type {\n",
       "        vertical-align: middle;\n",
       "    }\n",
       "\n",
       "    .dataframe tbody tr th {\n",
       "        vertical-align: top;\n",
       "    }\n",
       "\n",
       "    .dataframe thead th {\n",
       "        text-align: right;\n",
       "    }\n",
       "</style>\n",
       "<table border=\"1\" class=\"dataframe\">\n",
       "  <thead>\n",
       "    <tr style=\"text-align: right;\">\n",
       "      <th></th>\n",
       "      <th>Algorithm</th>\n",
       "      <th>R2 train</th>\n",
       "      <th>R2 val</th>\n",
       "      <th>MAE train</th>\n",
       "      <th>MAE val</th>\n",
       "    </tr>\n",
       "  </thead>\n",
       "  <tbody>\n",
       "    <tr>\n",
       "      <th>0</th>\n",
       "      <td>Linear Regression</td>\n",
       "      <td>0.829198</td>\n",
       "      <td>0.650785</td>\n",
       "      <td>21077.066551</td>\n",
       "      <td>24909.080194</td>\n",
       "    </tr>\n",
       "    <tr>\n",
       "      <th>1</th>\n",
       "      <td>Scaled LR</td>\n",
       "      <td>0.780732</td>\n",
       "      <td>0.826103</td>\n",
       "      <td>22503.308689</td>\n",
       "      <td>22574.392352</td>\n",
       "    </tr>\n",
       "    <tr>\n",
       "      <th>2</th>\n",
       "      <td>Lasso Regression</td>\n",
       "      <td>0.829198</td>\n",
       "      <td>0.650772</td>\n",
       "      <td>21076.750588</td>\n",
       "      <td>24908.739164</td>\n",
       "    </tr>\n",
       "    <tr>\n",
       "      <th>3</th>\n",
       "      <td>Polynomial n=2</td>\n",
       "      <td>0.933185</td>\n",
       "      <td>0.723125</td>\n",
       "      <td>14599.744518</td>\n",
       "      <td>21971.565993</td>\n",
       "    </tr>\n",
       "    <tr>\n",
       "      <th>4</th>\n",
       "      <td>Decision Trees</td>\n",
       "      <td>0.811926</td>\n",
       "      <td>0.786335</td>\n",
       "      <td>24906.906021</td>\n",
       "      <td>25942.917001</td>\n",
       "    </tr>\n",
       "  </tbody>\n",
       "</table>\n",
       "</div>"
      ],
      "text/plain": [
       "           Algorithm  R2 train    R2 val     MAE train       MAE val\n",
       "0  Linear Regression  0.829198  0.650785  21077.066551  24909.080194\n",
       "1          Scaled LR  0.780732  0.826103  22503.308689  22574.392352\n",
       "2   Lasso Regression  0.829198  0.650772  21076.750588  24908.739164\n",
       "3     Polynomial n=2  0.933185  0.723125  14599.744518  21971.565993\n",
       "4     Decision Trees  0.811926  0.786335  24906.906021  25942.917001"
      ]
     },
     "execution_count": 55,
     "metadata": {},
     "output_type": "execute_result"
    }
   ],
   "source": [
    "results"
   ]
  },
  {
   "cell_type": "code",
   "execution_count": 56,
   "id": "4972e8c5",
   "metadata": {},
   "outputs": [
    {
     "data": {
      "image/png": "[encoded data removed]",
      "text/plain": [
       "<Figure size 800x500 with 1 Axes>"
      ]
     },
     "metadata": {},
     "output_type": "display_data"
    }
   ],
   "source": [
    "dt_val = regr.predict(X_val)\n",
    "plt.figure(figsize=(8,5))\n",
    "plt.scatter(y_val, dt_val)\n",
    "plt.plot([0,y_val.max()], [0, y_val.max()], color='r')\n",
    "plt.xlabel('True Values')\n",
    "plt.ylabel('Predictions');"
   ]
  },
  {
   "cell_type": "markdown",
   "id": "2333addf",
   "metadata": {},
   "source": [
    "The graph of the Decision Tree regressor highlights how the model using simple conditional statements to calculate the target variable, these are shown a there are clear groups of predictions throughout.\n",
    "\n",
    "Overall, the Decision Tree model performs more consistently across R2 metrics than the previous models."
   ]
  },
  {
   "cell_type": "markdown",
   "id": "05b2a73f",
   "metadata": {},
   "source": [
    "## Random Forest"
   ]
  },
  {
   "cell_type": "markdown",
   "id": "a46661a6",
   "metadata": {},
   "source": [
    "Random Forest is a machine learning model that can perform both regression and classification. It uses an enemble approach to combine different models to create a final accurate prediction.\n",
    " \n",
    "Built on the concept of decision trees, however, each lead node wil represent a ensemble of decision trees. This reduces the effect of overfitting and works well for complex datasets such as the we are using."
   ]
  },
  {
   "cell_type": "code",
   "execution_count": 57,
   "id": "4d00bbad",
   "metadata": {},
   "outputs": [],
   "source": [
    "from sklearn.ensemble import RandomForestRegressor"
   ]
  },
  {
   "cell_type": "code",
   "execution_count": 58,
   "id": "3a3c338f",
   "metadata": {},
   "outputs": [],
   "source": [
    "rf = RandomForestRegressor()"
   ]
  },
  {
   "cell_type": "code",
   "execution_count": 59,
   "id": "66958b6f",
   "metadata": {},
   "outputs": [],
   "source": [
    "rf.fit(X_train, y_train);"
   ]
  },
  {
   "cell_type": "code",
   "execution_count": 60,
   "id": "7b7f9e94",
   "metadata": {},
   "outputs": [],
   "source": [
    "rf_r2_train = rf.score(X_train, y_train)\n",
    "rf_r2_val = rf.score(X_val, y_val)\n",
    "rf_mae_train = mae(y_train,rf.predict(X_train))\n",
    "rf_mae_val = mae(y_val,rf.predict(X_val))"
   ]
  },
  {
   "cell_type": "code",
   "execution_count": 61,
   "id": "a2af0bc4",
   "metadata": {},
   "outputs": [
    {
     "name": "stderr",
     "output_type": "stream",
     "text": [
      "C:\\Users\\Sam.Sutton\\AppData\\Local\\Continuum\\anaconda3\\TEMP\\ipykernel_18632\\4260808452.py:1: FutureWarning: The frame.append method is deprecated and will be removed from pandas in a future version. Use pandas.concat instead.\n",
      "  results = results.append({'Algorithm': 'Random Forest', 'R2 train': rf_r2_train, 'R2 val': rf_r2_val, 'MAE train' : rf_mae_train , 'MAE val': rf_mae_val}, ignore_index=True)\n"
     ]
    }
   ],
   "source": [
    "results = results.append({'Algorithm': 'Random Forest', 'R2 train': rf_r2_train, 'R2 val': rf_r2_val, 'MAE train' : rf_mae_train , 'MAE val': rf_mae_val}, ignore_index=True)"
   ]
  },
  {
   "cell_type": "code",
   "execution_count": 62,
   "id": "ad15a071",
   "metadata": {},
   "outputs": [
    {
     "data": {
      "text/html": [
       "<div>\n",
       "<style scoped>\n",
       "    .dataframe tbody tr th:only-of-type {\n",
       "        vertical-align: middle;\n",
       "    }\n",
       "\n",
       "    .dataframe tbody tr th {\n",
       "        vertical-align: top;\n",
       "    }\n",
       "\n",
       "    .dataframe thead th {\n",
       "        text-align: right;\n",
       "    }\n",
       "</style>\n",
       "<table border=\"1\" class=\"dataframe\">\n",
       "  <thead>\n",
       "    <tr style=\"text-align: right;\">\n",
       "      <th></th>\n",
       "      <th>Algorithm</th>\n",
       "      <th>R2 train</th>\n",
       "      <th>R2 val</th>\n",
       "      <th>MAE train</th>\n",
       "      <th>MAE val</th>\n",
       "    </tr>\n",
       "  </thead>\n",
       "  <tbody>\n",
       "    <tr>\n",
       "      <th>0</th>\n",
       "      <td>Linear Regression</td>\n",
       "      <td>0.829198</td>\n",
       "      <td>0.650785</td>\n",
       "      <td>21077.066551</td>\n",
       "      <td>24909.080194</td>\n",
       "    </tr>\n",
       "    <tr>\n",
       "      <th>1</th>\n",
       "      <td>Scaled LR</td>\n",
       "      <td>0.780732</td>\n",
       "      <td>0.826103</td>\n",
       "      <td>22503.308689</td>\n",
       "      <td>22574.392352</td>\n",
       "    </tr>\n",
       "    <tr>\n",
       "      <th>2</th>\n",
       "      <td>Lasso Regression</td>\n",
       "      <td>0.829198</td>\n",
       "      <td>0.650772</td>\n",
       "      <td>21076.750588</td>\n",
       "      <td>24908.739164</td>\n",
       "    </tr>\n",
       "    <tr>\n",
       "      <th>3</th>\n",
       "      <td>Polynomial n=2</td>\n",
       "      <td>0.933185</td>\n",
       "      <td>0.723125</td>\n",
       "      <td>14599.744518</td>\n",
       "      <td>21971.565993</td>\n",
       "    </tr>\n",
       "    <tr>\n",
       "      <th>4</th>\n",
       "      <td>Decision Trees</td>\n",
       "      <td>0.811926</td>\n",
       "      <td>0.786335</td>\n",
       "      <td>24906.906021</td>\n",
       "      <td>25942.917001</td>\n",
       "    </tr>\n",
       "    <tr>\n",
       "      <th>5</th>\n",
       "      <td>Random Forest</td>\n",
       "      <td>0.979563</td>\n",
       "      <td>0.859481</td>\n",
       "      <td>6888.674690</td>\n",
       "      <td>18265.270063</td>\n",
       "    </tr>\n",
       "  </tbody>\n",
       "</table>\n",
       "</div>"
      ],
      "text/plain": [
       "           Algorithm  R2 train    R2 val     MAE train       MAE val\n",
       "0  Linear Regression  0.829198  0.650785  21077.066551  24909.080194\n",
       "1          Scaled LR  0.780732  0.826103  22503.308689  22574.392352\n",
       "2   Lasso Regression  0.829198  0.650772  21076.750588  24908.739164\n",
       "3     Polynomial n=2  0.933185  0.723125  14599.744518  21971.565993\n",
       "4     Decision Trees  0.811926  0.786335  24906.906021  25942.917001\n",
       "5      Random Forest  0.979563  0.859481   6888.674690  18265.270063"
      ]
     },
     "execution_count": 62,
     "metadata": {},
     "output_type": "execute_result"
    }
   ],
   "source": [
    "results"
   ]
  },
  {
   "cell_type": "markdown",
   "id": "3d391ceb",
   "metadata": {},
   "source": [
    "When compared to the other models, we can see a significant improvemenet in performance for Random Forest across four metrics that we have chosen for analysis. The accuracy of the model does drop off on the validation data and this will be analysed in the graph below."
   ]
  },
  {
   "cell_type": "code",
   "execution_count": 63,
   "id": "7bfe173f",
   "metadata": {},
   "outputs": [
    {
     "data": {
      "image/png": "[encoded data removed]",
      "text/plain": [
       "<Figure size 800x500 with 1 Axes>"
      ]
     },
     "metadata": {},
     "output_type": "display_data"
    }
   ],
   "source": [
    "rf_val = rf.predict(X_val)\n",
    "plt.figure(figsize=(8,5))\n",
    "plt.scatter(y_val, rf_val)\n",
    "plt.plot([0,y_val.max()], [0, y_val.max()], color='r')\n",
    "plt.xlabel('True Values')\n",
    "plt.ylabel('Predictions');"
   ]
  },
  {
   "cell_type": "markdown",
   "id": "4174554f",
   "metadata": {},
   "source": [
    "The significant increase in performance of the Random Forest model compared to the other models studied, is evident graph above.\n",
    "\n",
    "The anomalies that were identified in previous graphs are now closer to the true values, although they are not perfect.\n",
    "\n",
    "This graph highlights the difference between Decision Trees and the Random Forest models. The ensemble approach of the Random Forest enables the predicted values to be created in less obvious categories."
   ]
  },
  {
   "cell_type": "markdown",
   "id": "a8da9d89",
   "metadata": {},
   "source": [
    "## Grid Search"
   ]
  },
  {
   "cell_type": "markdown",
   "id": "b4d763e5",
   "metadata": {},
   "source": [
    "The `GridSearch CV` function is used for hyperparameter tuning in machine learning models. It searches for the best performing combination of hyperparameters for your model.\n",
    "\n",
    "In this discovery, the Random Forest model has significantly outperformed the other models, by using the `GridSearchCV` function we can try to achieve the optimal model for our dataset. "
   ]
  },
  {
   "cell_type": "code",
   "execution_count": 64,
   "id": "d038bd30",
   "metadata": {},
   "outputs": [],
   "source": [
    "from sklearn.model_selection import GridSearchCV"
   ]
  },
  {
   "cell_type": "markdown",
   "id": "b16152f0",
   "metadata": {},
   "source": [
    "`GridSearchCV` will cycle through each potential combination of the parameters below to tune the hyperparameters of the model. This however may take a little time."
   ]
  },
  {
   "cell_type": "code",
   "execution_count": 65,
   "id": "3c72bd7c",
   "metadata": {},
   "outputs": [],
   "source": [
    "gsc = GridSearchCV(\n",
    "        estimator=RandomForestRegressor(),\n",
    "        param_grid={\n",
    "            'max_depth': (50,75,100),\n",
    "            'min_samples_leaf': (2,4,6,8),\n",
    "            'n_estimators': (25,50,75,100,125),\n",
    "        },\n",
    "        cv=3) "
   ]
  },
  {
   "cell_type": "code",
   "execution_count": 66,
   "id": "9eaf0422",
   "metadata": {},
   "outputs": [],
   "source": [
    "grid_result = gsc.fit(X_train, y_train)"
   ]
  },
  {
   "cell_type": "code",
   "execution_count": 67,
   "id": "67ec19bf",
   "metadata": {},
   "outputs": [
    {
     "data": {
      "text/plain": [
       "{'max_depth': 100, 'min_samples_leaf': 2, 'n_estimators': 50}"
      ]
     },
     "execution_count": 67,
     "metadata": {},
     "output_type": "execute_result"
    }
   ],
   "source": [
    "grid_result.best_params_ "
   ]
  },
  {
   "cell_type": "code",
   "execution_count": 68,
   "id": "c49e8809",
   "metadata": {},
   "outputs": [],
   "source": [
    "from sklearn.metrics import r2_score\n",
    "rfgs_r2_train = r2_score(grid_result.predict(X_train), y_train)\n",
    "rfgs_r2_val = r2_score(grid_result.predict(X_val), y_val)\n",
    "rfgs_mae_train = mae(y_train, grid_result.predict(X_train))\n",
    "rfgs_mae_val = mae(y_val, grid_result.predict(X_val))"
   ]
  },
  {
   "cell_type": "code",
   "execution_count": 69,
   "id": "4b0b8c7a",
   "metadata": {
    "scrolled": true
   },
   "outputs": [
    {
     "name": "stderr",
     "output_type": "stream",
     "text": [
      "C:\\Users\\Sam.Sutton\\AppData\\Local\\Continuum\\anaconda3\\TEMP\\ipykernel_18632\\3021676547.py:1: FutureWarning: The frame.append method is deprecated and will be removed from pandas in a future version. Use pandas.concat instead.\n",
      "  results = results.append({'Algorithm': 'Grid Search RF', 'R2 train': rfgs_r2_train, 'R2 val': rfgs_r2_val, 'MAE train' : rfgs_mae_train , 'MAE val': rfgs_mae_val}, ignore_index=True)\n"
     ]
    }
   ],
   "source": [
    "results = results.append({'Algorithm': 'Grid Search RF', 'R2 train': rfgs_r2_train, 'R2 val': rfgs_r2_val, 'MAE train' : rfgs_mae_train , 'MAE val': rfgs_mae_val}, ignore_index=True)"
   ]
  },
  {
   "cell_type": "code",
   "execution_count": 70,
   "id": "fb87670c",
   "metadata": {},
   "outputs": [
    {
     "data": {
      "text/html": [
       "<div>\n",
       "<style scoped>\n",
       "    .dataframe tbody tr th:only-of-type {\n",
       "        vertical-align: middle;\n",
       "    }\n",
       "\n",
       "    .dataframe tbody tr th {\n",
       "        vertical-align: top;\n",
       "    }\n",
       "\n",
       "    .dataframe thead th {\n",
       "        text-align: right;\n",
       "    }\n",
       "</style>\n",
       "<table border=\"1\" class=\"dataframe\">\n",
       "  <thead>\n",
       "    <tr style=\"text-align: right;\">\n",
       "      <th></th>\n",
       "      <th>Algorithm</th>\n",
       "      <th>R2 train</th>\n",
       "      <th>R2 val</th>\n",
       "      <th>MAE train</th>\n",
       "      <th>MAE val</th>\n",
       "    </tr>\n",
       "  </thead>\n",
       "  <tbody>\n",
       "    <tr>\n",
       "      <th>0</th>\n",
       "      <td>Linear Regression</td>\n",
       "      <td>0.829198</td>\n",
       "      <td>0.650785</td>\n",
       "      <td>21077.066551</td>\n",
       "      <td>24909.080194</td>\n",
       "    </tr>\n",
       "    <tr>\n",
       "      <th>1</th>\n",
       "      <td>Scaled LR</td>\n",
       "      <td>0.780732</td>\n",
       "      <td>0.826103</td>\n",
       "      <td>22503.308689</td>\n",
       "      <td>22574.392352</td>\n",
       "    </tr>\n",
       "    <tr>\n",
       "      <th>2</th>\n",
       "      <td>Lasso Regression</td>\n",
       "      <td>0.829198</td>\n",
       "      <td>0.650772</td>\n",
       "      <td>21076.750588</td>\n",
       "      <td>24908.739164</td>\n",
       "    </tr>\n",
       "    <tr>\n",
       "      <th>3</th>\n",
       "      <td>Polynomial n=2</td>\n",
       "      <td>0.933185</td>\n",
       "      <td>0.723125</td>\n",
       "      <td>14599.744518</td>\n",
       "      <td>21971.565993</td>\n",
       "    </tr>\n",
       "    <tr>\n",
       "      <th>4</th>\n",
       "      <td>Decision Trees</td>\n",
       "      <td>0.811926</td>\n",
       "      <td>0.786335</td>\n",
       "      <td>24906.906021</td>\n",
       "      <td>25942.917001</td>\n",
       "    </tr>\n",
       "    <tr>\n",
       "      <th>5</th>\n",
       "      <td>Random Forest</td>\n",
       "      <td>0.979563</td>\n",
       "      <td>0.859481</td>\n",
       "      <td>6888.674690</td>\n",
       "      <td>18265.270063</td>\n",
       "    </tr>\n",
       "    <tr>\n",
       "      <th>6</th>\n",
       "      <td>Grid Search RF</td>\n",
       "      <td>0.960858</td>\n",
       "      <td>0.817013</td>\n",
       "      <td>8402.097840</td>\n",
       "      <td>18349.898467</td>\n",
       "    </tr>\n",
       "  </tbody>\n",
       "</table>\n",
       "</div>"
      ],
      "text/plain": [
       "           Algorithm  R2 train    R2 val     MAE train       MAE val\n",
       "0  Linear Regression  0.829198  0.650785  21077.066551  24909.080194\n",
       "1          Scaled LR  0.780732  0.826103  22503.308689  22574.392352\n",
       "2   Lasso Regression  0.829198  0.650772  21076.750588  24908.739164\n",
       "3     Polynomial n=2  0.933185  0.723125  14599.744518  21971.565993\n",
       "4     Decision Trees  0.811926  0.786335  24906.906021  25942.917001\n",
       "5      Random Forest  0.979563  0.859481   6888.674690  18265.270063\n",
       "6     Grid Search RF  0.960858  0.817013   8402.097840  18349.898467"
      ]
     },
     "execution_count": 70,
     "metadata": {},
     "output_type": "execute_result"
    }
   ],
   "source": [
    "results"
   ]
  },
  {
   "cell_type": "markdown",
   "id": "ada5ee86",
   "metadata": {},
   "source": [
    "Interestingly enough the default Random Forest model performs better than the hyperparameter tuned model with `GridSearchCV`. There are many different reasons this may be the case including:\n",
    "- The default model is close to optimal for the dataset and the function is unable to offer substantial improvements.\n",
    "- The `GridSearchCV`values used do not allow for the optimal combination to be chosen\n",
    "- and many more..."
   ]
  },
  {
   "cell_type": "code",
   "execution_count": 71,
   "id": "e304efa9",
   "metadata": {},
   "outputs": [
    {
     "data": {
      "image/png": "[encoded data removed]",
      "text/plain": [
       "<Figure size 800x500 with 1 Axes>"
      ]
     },
     "metadata": {},
     "output_type": "display_data"
    }
   ],
   "source": [
    "gsc_val = gsc.predict(X_val)\n",
    "plt.figure(figsize=(8,5))\n",
    "plt.scatter(y_val, gsc_val)\n",
    "plt.plot([0,y_val.max()], [0, y_val.max()], color='r')\n",
    "plt.xlabel('True Values')\n",
    "plt.ylabel('Predictions');"
   ]
  },
  {
   "cell_type": "markdown",
   "id": "d8475b12",
   "metadata": {},
   "source": [
    "## Randomised Search CV"
   ]
  },
  {
   "cell_type": "markdown",
   "id": "dccd81cd",
   "metadata": {},
   "source": [
    "A different approach to finding the optimal hyperparameters is called `RandomizedSearchCV` which is also avaliable from the `scikit-learn` library. It offers a better search efficiency if computational resources are a concern, you can use Random Search to highlight a promising area and then Grid Search to find the optimal hyperparameters."
   ]
  },
  {
   "cell_type": "code",
   "execution_count": 72,
   "id": "7baf0734",
   "metadata": {},
   "outputs": [
    {
     "data": {
      "text/plain": [
       "RandomizedSearchCV(cv=3, estimator=RandomForestRegressor(),\n",
       "                   param_distributions={'max_depth': <scipy.stats._distn_infrastructure.rv_discrete_frozen object at 0x0000016E55BFE760>,\n",
       "                                        'min_samples_leaf': <scipy.stats._distn_infrastructure.rv_discrete_frozen object at 0x0000016E53862820>,\n",
       "                                        'n_estimators': <scipy.stats._distn_infrastructure.rv_discrete_frozen object at 0x0000016E55BFE1F0>})"
      ]
     },
     "execution_count": 72,
     "metadata": {},
     "output_type": "execute_result"
    }
   ],
   "source": [
    "from sklearn.model_selection import RandomizedSearchCV\n",
    "from scipy.stats import randint\n",
    "\n",
    "random_search = RandomizedSearchCV(\n",
    "        estimator=RandomForestRegressor(),\n",
    "        param_distributions={\n",
    "            'max_depth': randint(1, 20),\n",
    "            'min_samples_leaf': randint(1, 20),\n",
    "            'n_estimators': randint(10, 200),\n",
    "        },\n",
    "        n_iter=10,\n",
    "        cv=3,)\n",
    "random_search.fit(X_train, y_train)"
   ]
  },
  {
   "cell_type": "code",
   "execution_count": 73,
   "id": "fce25265",
   "metadata": {},
   "outputs": [
    {
     "data": {
      "text/plain": [
       "{'max_depth': 15, 'min_samples_leaf': 2, 'n_estimators': 72}"
      ]
     },
     "execution_count": 73,
     "metadata": {},
     "output_type": "execute_result"
    }
   ],
   "source": [
    "random_search.best_params_ "
   ]
  },
  {
   "cell_type": "code",
   "execution_count": 74,
   "id": "2a00b4fa",
   "metadata": {},
   "outputs": [],
   "source": [
    "rs_r2_train = r2_score(random_search.predict(X_train), y_train)\n",
    "rs_r2_val = r2_score(random_search.predict(X_val), y_val)\n",
    "rs_mae_train = mae(y_train, random_search.predict(X_train))\n",
    "rs_mae_val = mae(y_val, random_search.predict(X_val))"
   ]
  },
  {
   "cell_type": "code",
   "execution_count": 75,
   "id": "b8296fa5",
   "metadata": {},
   "outputs": [
    {
     "name": "stderr",
     "output_type": "stream",
     "text": [
      "C:\\Users\\Sam.Sutton\\AppData\\Local\\Continuum\\anaconda3\\TEMP\\ipykernel_18632\\3046625119.py:1: FutureWarning: The frame.append method is deprecated and will be removed from pandas in a future version. Use pandas.concat instead.\n",
      "  results = results.append({'Algorithm': 'Random Search RF', 'R2 train': rs_r2_train, 'R2 val': rs_r2_val, 'MAE train' : rs_mae_train , 'MAE val': rs_mae_val}, ignore_index=True)\n"
     ]
    }
   ],
   "source": [
    "results = results.append({'Algorithm': 'Random Search RF', 'R2 train': rs_r2_train, 'R2 val': rs_r2_val, 'MAE train' : rs_mae_train , 'MAE val': rs_mae_val}, ignore_index=True)"
   ]
  },
  {
   "cell_type": "code",
   "execution_count": 76,
   "id": "d3a4435e",
   "metadata": {},
   "outputs": [
    {
     "data": {
      "text/html": [
       "<div>\n",
       "<style scoped>\n",
       "    .dataframe tbody tr th:only-of-type {\n",
       "        vertical-align: middle;\n",
       "    }\n",
       "\n",
       "    .dataframe tbody tr th {\n",
       "        vertical-align: top;\n",
       "    }\n",
       "\n",
       "    .dataframe thead th {\n",
       "        text-align: right;\n",
       "    }\n",
       "</style>\n",
       "<table border=\"1\" class=\"dataframe\">\n",
       "  <thead>\n",
       "    <tr style=\"text-align: right;\">\n",
       "      <th></th>\n",
       "      <th>Algorithm</th>\n",
       "      <th>R2 train</th>\n",
       "      <th>R2 val</th>\n",
       "      <th>MAE train</th>\n",
       "      <th>MAE val</th>\n",
       "    </tr>\n",
       "  </thead>\n",
       "  <tbody>\n",
       "    <tr>\n",
       "      <th>0</th>\n",
       "      <td>Linear Regression</td>\n",
       "      <td>0.829198</td>\n",
       "      <td>0.650785</td>\n",
       "      <td>21077.066551</td>\n",
       "      <td>24909.080194</td>\n",
       "    </tr>\n",
       "    <tr>\n",
       "      <th>1</th>\n",
       "      <td>Scaled LR</td>\n",
       "      <td>0.780732</td>\n",
       "      <td>0.826103</td>\n",
       "      <td>22503.308689</td>\n",
       "      <td>22574.392352</td>\n",
       "    </tr>\n",
       "    <tr>\n",
       "      <th>2</th>\n",
       "      <td>Lasso Regression</td>\n",
       "      <td>0.829198</td>\n",
       "      <td>0.650772</td>\n",
       "      <td>21076.750588</td>\n",
       "      <td>24908.739164</td>\n",
       "    </tr>\n",
       "    <tr>\n",
       "      <th>3</th>\n",
       "      <td>Polynomial n=2</td>\n",
       "      <td>0.933185</td>\n",
       "      <td>0.723125</td>\n",
       "      <td>14599.744518</td>\n",
       "      <td>21971.565993</td>\n",
       "    </tr>\n",
       "    <tr>\n",
       "      <th>4</th>\n",
       "      <td>Decision Trees</td>\n",
       "      <td>0.811926</td>\n",
       "      <td>0.786335</td>\n",
       "      <td>24906.906021</td>\n",
       "      <td>25942.917001</td>\n",
       "    </tr>\n",
       "    <tr>\n",
       "      <th>5</th>\n",
       "      <td>Random Forest</td>\n",
       "      <td>0.979563</td>\n",
       "      <td>0.859481</td>\n",
       "      <td>6888.674690</td>\n",
       "      <td>18265.270063</td>\n",
       "    </tr>\n",
       "    <tr>\n",
       "      <th>6</th>\n",
       "      <td>Grid Search RF</td>\n",
       "      <td>0.960858</td>\n",
       "      <td>0.817013</td>\n",
       "      <td>8402.097840</td>\n",
       "      <td>18349.898467</td>\n",
       "    </tr>\n",
       "    <tr>\n",
       "      <th>7</th>\n",
       "      <td>Random Search RF</td>\n",
       "      <td>0.959223</td>\n",
       "      <td>0.811049</td>\n",
       "      <td>8327.449120</td>\n",
       "      <td>18642.484215</td>\n",
       "    </tr>\n",
       "  </tbody>\n",
       "</table>\n",
       "</div>"
      ],
      "text/plain": [
       "           Algorithm  R2 train    R2 val     MAE train       MAE val\n",
       "0  Linear Regression  0.829198  0.650785  21077.066551  24909.080194\n",
       "1          Scaled LR  0.780732  0.826103  22503.308689  22574.392352\n",
       "2   Lasso Regression  0.829198  0.650772  21076.750588  24908.739164\n",
       "3     Polynomial n=2  0.933185  0.723125  14599.744518  21971.565993\n",
       "4     Decision Trees  0.811926  0.786335  24906.906021  25942.917001\n",
       "5      Random Forest  0.979563  0.859481   6888.674690  18265.270063\n",
       "6     Grid Search RF  0.960858  0.817013   8402.097840  18349.898467\n",
       "7   Random Search RF  0.959223  0.811049   8327.449120  18642.484215"
      ]
     },
     "execution_count": 76,
     "metadata": {},
     "output_type": "execute_result"
    }
   ],
   "source": [
    "results"
   ]
  },
  {
   "cell_type": "markdown",
   "id": "fe00067c",
   "metadata": {},
   "source": [
    "Similar to the Grid Search, the Randomised Search model has been unable to offer significant improvement in performance compared the the default Random Forest model. For future improvements, we can utilise more hyperparameter tuning to try and improve the Random Forest performance. This could include using both Randomised Search and then Grid Search as detailed above."
   ]
  },
  {
   "cell_type": "code",
   "execution_count": 77,
   "id": "13c0464f",
   "metadata": {},
   "outputs": [
    {
     "data": {
      "image/png": "[encoded data removed]",
      "text/plain": [
       "<Figure size 800x500 with 1 Axes>"
      ]
     },
     "metadata": {},
     "output_type": "display_data"
    }
   ],
   "source": [
    "rs_val = random_search.predict(X_val)\n",
    "plt.figure(figsize=(8,5))\n",
    "plt.scatter(y_val, rs_val)\n",
    "plt.plot([0,y_val.max()], [0, y_val.max()], color='r')\n",
    "plt.xlabel('True Values')\n",
    "plt.ylabel('Predictions');"
   ]
  },
  {
   "cell_type": "markdown",
   "id": "37d39cab",
   "metadata": {},
   "source": [
    "The performance of both `GridSearchCV`and `RandomisedSearchCV`are similar due to both models selecting similar hyperparameters in the search for the optimal values. More extensive investigation may find new hyperparameters that can offer better performance than the default Random Forest model, however, we do not want to overfit the model to the training data."
   ]
  },
  {
   "cell_type": "code",
   "execution_count": null,
   "id": "1fae9488",
   "metadata": {},
   "outputs": [],
   "source": []
  }
 ],
 "metadata": {
  "kernelspec": {
   "display_name": "Python 3 (ipykernel)",
   "language": "python",
   "name": "python3"
  },
  "language_info": {
   "codemirror_mode": {
    "name": "ipython",
    "version": 3
   },
   "file_extension": ".py",
   "mimetype": "text/x-python",
   "name": "python",
   "nbconvert_exporter": "python",
   "pygments_lexer": "ipython3",
   "version": "3.9.13"
  }
 },
 "nbformat": 4,
 "nbformat_minor": 5
}
